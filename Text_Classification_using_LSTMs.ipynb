{
  "nbformat": 4,
  "nbformat_minor": 0,
  "metadata": {
    "colab": {
      "provenance": [],
      "authorship_tag": "ABX9TyNE7haTrISxNqF6wOO+wUbn",
      "include_colab_link": true
    },
    "kernelspec": {
      "name": "python3",
      "display_name": "Python 3"
    },
    "language_info": {
      "name": "python"
    }
  },
  "cells": [
    {
      "cell_type": "markdown",
      "metadata": {
        "id": "view-in-github",
        "colab_type": "text"
      },
      "source": [
        "<a href=\"https://colab.research.google.com/github/charlie-aashutosh/IIT-JODHPUR-AI-/blob/main/Text_Classification_using_LSTMs.ipynb\" target=\"_parent\"><img src=\"https://colab.research.google.com/assets/colab-badge.svg\" alt=\"Open In Colab\"/></a>"
      ]
    },
    {
      "cell_type": "code",
      "execution_count": 1,
      "metadata": {
        "id": "llXIh1RVvDte"
      },
      "outputs": [],
      "source": [
        "import numpy as np\n",
        "import tensorflow as tf #DL - TensorFlow, PyTorch, Glucon ...\n",
        "from tensorflow.keras.models import Sequential\n",
        "from tensorflow.keras.layers import Embedding, LSTM, Dense, Dropout #dropout for dealing with overfitting"
      ]
    },
    {
      "cell_type": "code",
      "source": [
        "from tensorflow.keras.preprocessing.sequence import pad_sequences\n",
        "from tensorflow.keras.preprocessing.text import Tokenizer"
      ],
      "metadata": {
        "id": "4FDi-xbav6II"
      },
      "execution_count": 2,
      "outputs": []
    },
    {
      "cell_type": "code",
      "source": [
        "from tensorflow.keras.datasets import imdb"
      ],
      "metadata": {
        "id": "0bUdSouhvOuU"
      },
      "execution_count": 4,
      "outputs": []
    },
    {
      "cell_type": "code",
      "source": [
        "#loading the dataset\n",
        "vocab_size=10000 #we will use the top 10000 words from the IMDB reviews\n",
        "max_len=200 #maximum lenth of each review will be atmost 200\n",
        "\n",
        "(x_train,y_train), (x_test,y_test)=imdb.load_data(num_words=vocab_size)\n",
        "\n",
        "#padding the sequnces (text corpus)\n",
        "x_train=pad_sequences(x_train,maxlen=max_len)\n",
        "x_test=pad_sequences(x_test,maxlen=max_len)"
      ],
      "metadata": {
        "colab": {
          "base_uri": "https://localhost:8080/"
        },
        "id": "hdeknTcfvOq6",
        "outputId": "b2dbece8-49d3-4308-9a5f-a85092d196d4"
      },
      "execution_count": 6,
      "outputs": [
        {
          "output_type": "stream",
          "name": "stdout",
          "text": [
            "Downloading data from https://storage.googleapis.com/tensorflow/tf-keras-datasets/imdb.npz\n",
            "17464789/17464789 [==============================] - 0s 0us/step\n"
          ]
        }
      ]
    },
    {
      "cell_type": "code",
      "source": [
        "embedding_dim=128\n",
        "model=Sequential([\n",
        "    Embedding(input_dim=vocab_size,output_dim=embedding_dim,input_length=max_len),\n",
        "    LSTM(units=128, return_sequences=False),\n",
        "    Dropout(0.8),\n",
        "    Dense(units=1,activation='sigmoid') #binary text classification - +ve review or -ve review\n",
        "])"
      ],
      "metadata": {
        "id": "H1hSSAkIvOol"
      },
      "execution_count": 13,
      "outputs": []
    },
    {
      "cell_type": "code",
      "source": [
        "model.compile(loss='binary_crossentropy',optimizer='adam',metrics=['accuracy'])\n"
      ],
      "metadata": {
        "id": "0H6ZWqy319to"
      },
      "execution_count": 14,
      "outputs": []
    },
    {
      "cell_type": "code",
      "source": [
        "batch_size=64\n",
        "epochs=10\n",
        "text_classification=model.fit(x_train,y_train,batch_size=batch_size,epochs=epochs,validation_split=0.2)"
      ],
      "metadata": {
        "colab": {
          "base_uri": "https://localhost:8080/"
        },
        "id": "-6C7qamw2nIr",
        "outputId": "ea193645-d0b9-4fc6-bddb-367c263747c0"
      },
      "execution_count": 15,
      "outputs": [
        {
          "output_type": "stream",
          "name": "stdout",
          "text": [
            "Epoch 1/10\n",
            "313/313 [==============================] - 167s 526ms/step - loss: 0.4684 - accuracy: 0.7687 - val_loss: 0.3320 - val_accuracy: 0.8592\n",
            "Epoch 2/10\n",
            "313/313 [==============================] - 168s 538ms/step - loss: 0.2765 - accuracy: 0.8943 - val_loss: 0.3262 - val_accuracy: 0.8640\n",
            "Epoch 3/10\n",
            "313/313 [==============================] - 167s 535ms/step - loss: 0.2152 - accuracy: 0.9219 - val_loss: 0.3596 - val_accuracy: 0.8650\n",
            "Epoch 4/10\n",
            "313/313 [==============================] - 172s 549ms/step - loss: 0.1537 - accuracy: 0.9455 - val_loss: 0.3646 - val_accuracy: 0.8604\n",
            "Epoch 5/10\n",
            "313/313 [==============================] - 171s 546ms/step - loss: 0.1076 - accuracy: 0.9635 - val_loss: 0.4755 - val_accuracy: 0.8646\n",
            "Epoch 6/10\n",
            "313/313 [==============================] - 170s 542ms/step - loss: 0.0891 - accuracy: 0.9685 - val_loss: 0.4912 - val_accuracy: 0.8516\n",
            "Epoch 7/10\n",
            "313/313 [==============================] - 167s 534ms/step - loss: 0.0850 - accuracy: 0.9725 - val_loss: 0.4944 - val_accuracy: 0.8378\n",
            "Epoch 8/10\n",
            "313/313 [==============================] - 166s 531ms/step - loss: 0.0822 - accuracy: 0.9729 - val_loss: 0.5965 - val_accuracy: 0.8488\n",
            "Epoch 9/10\n",
            "313/313 [==============================] - 171s 548ms/step - loss: 0.0520 - accuracy: 0.9845 - val_loss: 0.6401 - val_accuracy: 0.8320\n",
            "Epoch 10/10\n",
            "313/313 [==============================] - 170s 542ms/step - loss: 0.0657 - accuracy: 0.9790 - val_loss: 0.6335 - val_accuracy: 0.8236\n"
          ]
        }
      ]
    },
    {
      "cell_type": "code",
      "source": [
        "test_loss,test_accuracy=model.evaluate(x_test,y_test)\n",
        "print(\"test_loss\",test_loss)\n",
        "print(\"test_accuracy\",test_accuracy)"
      ],
      "metadata": {
        "colab": {
          "base_uri": "https://localhost:8080/"
        },
        "id": "CElNcCXY2yuD",
        "outputId": "c775520a-3b15-49c7-c47d-2af96295f5cf"
      },
      "execution_count": 16,
      "outputs": [
        {
          "output_type": "stream",
          "name": "stdout",
          "text": [
            "782/782 [==============================] - 89s 113ms/step - loss: 0.6286 - accuracy: 0.8213\n",
            "test_loss 0.6286268830299377\n",
            "test_accuracy 0.8213199973106384\n"
          ]
        }
      ]
    },
    {
      "cell_type": "code",
      "source": [],
      "metadata": {
        "id": "Zj_aH5oh9s7q"
      },
      "execution_count": null,
      "outputs": []
    }
  ]
}