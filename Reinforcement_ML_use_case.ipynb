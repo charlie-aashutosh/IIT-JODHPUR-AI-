{
  "nbformat": 4,
  "nbformat_minor": 0,
  "metadata": {
    "colab": {
      "provenance": [],
      "authorship_tag": "ABX9TyNrj8Fb8rbv2Q3/BHjsnUPt",
      "include_colab_link": true
    },
    "kernelspec": {
      "name": "python3",
      "display_name": "Python 3"
    },
    "language_info": {
      "name": "python"
    }
  },
  "cells": [
    {
      "cell_type": "markdown",
      "metadata": {
        "id": "view-in-github",
        "colab_type": "text"
      },
      "source": [
        "<a href=\"https://colab.research.google.com/github/charlie-aashutosh/IIT-JODHPUR-AI-/blob/main/Reinforcement_ML_use_case.ipynb\" target=\"_parent\"><img src=\"https://colab.research.google.com/assets/colab-badge.svg\" alt=\"Open In Colab\"/></a>"
      ]
    },
    {
      "cell_type": "code",
      "source": [
        "import random\n",
        "from typing import List\n",
        "\n",
        "class Environment:\n",
        "  def __init__(self):\n",
        "    self.steps_left=20\n",
        "\n",
        "  def get_observation(self) -> List[float]:\n",
        "    return [0.0,0.0,0.0]\n",
        "\n",
        "  def get_actions(self) -> List[int]:\n",
        "    return [0,1]\n",
        "\n",
        "  def is_done(self) -> bool:\n",
        "    return self.steps_left==0\n",
        "\n",
        "  def action(self,action: int) -> float:\n",
        "    if self.is_done():\n",
        "      raise Exception(\"Well Done, Congratulations !\")\n",
        "    self.steps_left-=1\n",
        "    return random.random()"
      ],
      "metadata": {
        "id": "DCuFzpPoo3yY"
      },
      "execution_count": 3,
      "outputs": []
    },
    {
      "cell_type": "code",
      "source": [
        "class Agent:\n",
        "  def __init__(self):\n",
        "    self.total_reward=0.0\n",
        "\n",
        "  def step(self,env:Environment):\n",
        "    current_obs=env.get_observation()\n",
        "    print(\"Observation{}\".format(current_obs))\n",
        "    actions=env.get_actions()\n",
        "    print(actions)\n",
        "    reward=env.action(random.choice(actions))\n",
        "    self.total_reward += reward\n",
        "    print(\"Total Reward{}\".format(self.total_reward))"
      ],
      "metadata": {
        "id": "ybNmoaWF2xtl"
      },
      "execution_count": 5,
      "outputs": []
    },
    {
      "cell_type": "code",
      "source": [
        "if __name__==\"__main__\":\n",
        "  env=Environment()\n",
        "  agent=Agent()\n",
        "  i=0\n",
        "\n",
        "  while not env.is_done():\n",
        "    i=i+1\n",
        "    print(\"Steps{}\".format(i))\n",
        "    agent.step(env)\n",
        "\n",
        "  print(\"Total rewards collected:%.4f\" %agent.total_reward)"
      ],
      "metadata": {
        "colab": {
          "base_uri": "https://localhost:8080/"
        },
        "id": "0Qw3SiPy3hMF",
        "outputId": "b61f17ed-d7b6-4372-83d2-ce906af1e18d"
      },
      "execution_count": 8,
      "outputs": [
        {
          "output_type": "stream",
          "name": "stdout",
          "text": [
            "Steps1\n",
            "Observation[0.0, 0.0, 0.0]\n",
            "[0, 1]\n",
            "Total Reward0.7625408406684132\n",
            "Steps2\n",
            "Observation[0.0, 0.0, 0.0]\n",
            "[0, 1]\n",
            "Total Reward1.3458239503024574\n",
            "Steps3\n",
            "Observation[0.0, 0.0, 0.0]\n",
            "[0, 1]\n",
            "Total Reward2.016849208639923\n",
            "Steps4\n",
            "Observation[0.0, 0.0, 0.0]\n",
            "[0, 1]\n",
            "Total Reward2.7746998274977477\n",
            "Steps5\n",
            "Observation[0.0, 0.0, 0.0]\n",
            "[0, 1]\n",
            "Total Reward3.5441547906414677\n",
            "Steps6\n",
            "Observation[0.0, 0.0, 0.0]\n",
            "[0, 1]\n",
            "Total Reward3.6684124311346573\n",
            "Steps7\n",
            "Observation[0.0, 0.0, 0.0]\n",
            "[0, 1]\n",
            "Total Reward4.596541634365013\n",
            "Steps8\n",
            "Observation[0.0, 0.0, 0.0]\n",
            "[0, 1]\n",
            "Total Reward5.257004190114162\n",
            "Steps9\n",
            "Observation[0.0, 0.0, 0.0]\n",
            "[0, 1]\n",
            "Total Reward5.97306230624098\n",
            "Steps10\n",
            "Observation[0.0, 0.0, 0.0]\n",
            "[0, 1]\n",
            "Total Reward6.42803120327985\n",
            "Steps11\n",
            "Observation[0.0, 0.0, 0.0]\n",
            "[0, 1]\n",
            "Total Reward7.151087190682127\n",
            "Steps12\n",
            "Observation[0.0, 0.0, 0.0]\n",
            "[0, 1]\n",
            "Total Reward7.841071562014182\n",
            "Steps13\n",
            "Observation[0.0, 0.0, 0.0]\n",
            "[0, 1]\n",
            "Total Reward7.878910446484963\n",
            "Steps14\n",
            "Observation[0.0, 0.0, 0.0]\n",
            "[0, 1]\n",
            "Total Reward8.083270058439808\n",
            "Steps15\n",
            "Observation[0.0, 0.0, 0.0]\n",
            "[0, 1]\n",
            "Total Reward8.94192002038795\n",
            "Steps16\n",
            "Observation[0.0, 0.0, 0.0]\n",
            "[0, 1]\n",
            "Total Reward9.823524604195642\n",
            "Steps17\n",
            "Observation[0.0, 0.0, 0.0]\n",
            "[0, 1]\n",
            "Total Reward9.82623623088881\n",
            "Steps18\n",
            "Observation[0.0, 0.0, 0.0]\n",
            "[0, 1]\n",
            "Total Reward10.762192707326534\n",
            "Steps19\n",
            "Observation[0.0, 0.0, 0.0]\n",
            "[0, 1]\n",
            "Total Reward11.749795675288848\n",
            "Steps20\n",
            "Observation[0.0, 0.0, 0.0]\n",
            "[0, 1]\n",
            "Total Reward12.673770943853825\n",
            "Total rewards collected:12.6738\n"
          ]
        }
      ]
    },
    {
      "cell_type": "code",
      "source": [],
      "metadata": {
        "id": "TH3YJId94n6s"
      },
      "execution_count": null,
      "outputs": []
    }
  ]
}